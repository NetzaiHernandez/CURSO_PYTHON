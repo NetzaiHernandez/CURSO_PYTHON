{
 "cells": [
  {
   "cell_type": "markdown",
   "metadata": {},
   "source": [
    "## Que Numero es Mas grande"
   ]
  },
  {
   "cell_type": "code",
   "execution_count": 2,
   "metadata": {},
   "outputs": [
    {
     "name": "stdout",
     "output_type": "stream",
     "text": [
      "Ingresa dos valors para verificar cual es mayor\n",
      "El numero 7 es mayor que 6\n"
     ]
    }
   ],
   "source": [
    "print(\"Ingresa dos valors para verificar cual es mayor\")\n",
    "valor_1=int(input('Dame un valor 1 entero'))\n",
    "valor_2=int(input('Dame un valor 2 entero'))\n",
    "if(valor_1 > valor_2):\n",
    "    print(f'El numero {valor_1} es mayor que {valor_2}')\n",
    "else:\n",
    "    print(f'El numero {valor_2} es mayor que {valor_1}')"
   ]
  },
  {
   "cell_type": "markdown",
   "metadata": {},
   "source": [
    "Numero mas grande con elif"
   ]
  },
  {
   "cell_type": "code",
   "execution_count": 3,
   "metadata": {},
   "outputs": [
    {
     "name": "stdout",
     "output_type": "stream",
     "text": [
      "Ingresa dos valors para verificar cual es mayor\n",
      "El numero 5 es igual al numero 5\n"
     ]
    }
   ],
   "source": [
    "print(\"Ingresa dos valors para verificar cual es mayor\")\n",
    "valor_1=int(input('Dame un valor 1 entero'))\n",
    "valor_2=int(input('Dame un valor 2 entero'))\n",
    "if(valor_1 > valor_2):\n",
    "    print(f'El numero {valor_1} es mayor que {valor_2}')\n",
    "elif (valor_2 > valor_1):\n",
    "    print(f'El numero {valor_2} es mayor que {valor_1}')\n",
    "elif(valor_1 == valor_2):\n",
    "    print(f'El numero {valor_2} es igual al numero {valor_1}')"
   ]
  },
  {
   "cell_type": "markdown",
   "metadata": {},
   "source": [
    "## LISTAS"
   ]
  },
  {
   "cell_type": "code",
   "execution_count": 4,
   "metadata": {},
   "outputs": [
    {
     "name": "stdout",
     "output_type": "stream",
     "text": [
      "['Platano', 'Papaya', 'Melon']\n"
     ]
    }
   ],
   "source": [
    "mis_frutas = [\"Platano\",\"Papaya\",\"Melon\"]\n",
    "print(mis_frutas)"
   ]
  },
  {
   "cell_type": "code",
   "execution_count": 5,
   "metadata": {},
   "outputs": [
    {
     "name": "stdout",
     "output_type": "stream",
     "text": [
      "Platano\n"
     ]
    }
   ],
   "source": [
    "mis_frutas = [\"Platano\",\"Papaya\",\"Melon\"]\n",
    "print(mis_frutas[0])"
   ]
  },
  {
   "cell_type": "markdown",
   "metadata": {},
   "source": [
    "## METODOS DE LISTA"
   ]
  },
  {
   "cell_type": "code",
   "execution_count": 6,
   "metadata": {},
   "outputs": [
    {
     "name": "stdout",
     "output_type": "stream",
     "text": [
      "['Platano', 'Papaya', 'Melon']\n",
      "['Platano', 'Papaya', 'Melon', 'Naranja']\n"
     ]
    }
   ],
   "source": [
    "mis_frutas = [\"Platano\",\"Papaya\",\"Melon\"]\n",
    "print(mis_frutas)\n",
    "mis_frutas.append(\"Naranja\")\n",
    "print(mis_frutas)"
   ]
  },
  {
   "cell_type": "code",
   "execution_count": 9,
   "metadata": {},
   "outputs": [
    {
     "data": {
      "text/plain": [
       "['Melon', 'Naranja']"
      ]
     },
     "execution_count": 9,
     "metadata": {},
     "output_type": "execute_result"
    }
   ],
   "source": [
    "mis_frutas = [\"Platano\",\"Papaya\",\"Melon\"]\n",
    "mis_frutas.append(\"Naranja\")\n",
    "mis_frutas[0:2]\n",
    "mis_frutas[2:4]"
   ]
  },
  {
   "cell_type": "markdown",
   "metadata": {},
   "source": [
    "## SLICE TEXTO"
   ]
  },
  {
   "cell_type": "code",
   "execution_count": 11,
   "metadata": {},
   "outputs": [
    {
     "data": {
      "text/plain": [
       "'V '"
      ]
     },
     "execution_count": 11,
     "metadata": {},
     "output_type": "execute_result"
    }
   ],
   "source": [
    "palabra=\"V de Venganza\"\n",
    "palabra[0:2]\n",
    "palabra[6:9]\n",
    "palabra[4:8]"
   ]
  },
  {
   "cell_type": "code",
   "execution_count": 12,
   "metadata": {},
   "outputs": [
    {
     "data": {
      "text/plain": [
       "'Naranja'"
      ]
     },
     "execution_count": 12,
     "metadata": {},
     "output_type": "execute_result"
    }
   ],
   "source": [
    "mis_frutas = [\"Platano\",\"Papaya\",\"Melon\"]\n",
    "mis_frutas.append(\"Naranja\")\n",
    "mis_frutas[-1]"
   ]
  },
  {
   "cell_type": "markdown",
   "metadata": {},
   "source": [
    "## ACTIVIDAD LISTAS"
   ]
  },
  {
   "cell_type": "code",
   "execution_count": null,
   "metadata": {},
   "outputs": [],
   "source": [
    "mis_numeros=[5,8,0,4,10,15,12,20,16,18]\n"
   ]
  },
  {
   "cell_type": "markdown",
   "metadata": {},
   "source": [
    "### SORT"
   ]
  },
  {
   "cell_type": "code",
   "execution_count": 15,
   "metadata": {},
   "outputs": [
    {
     "name": "stdout",
     "output_type": "stream",
     "text": [
      "[0, 4, 5, 8, 10, 12, 15, 16, 18, 20]\n",
      "[20, 18, 16, 15, 12, 10, 8, 5, 4, 0]\n"
     ]
    }
   ],
   "source": [
    "mis_numeros=[5,8,0,4,10,15,12,20,16,18]\n",
    "mis_numeros.sort()\n",
    "print(mis_numeros)\n",
    "mis_numeros.sort(reverse=True)\n",
    "print(mis_numeros)\n"
   ]
  },
  {
   "cell_type": "markdown",
   "metadata": {},
   "source": [
    "## Metodo count devuelve el numero de veces que hay un elemento en la lista"
   ]
  },
  {
   "cell_type": "code",
   "execution_count": 16,
   "metadata": {},
   "outputs": [
    {
     "data": {
      "text/plain": [
       "3"
      ]
     },
     "execution_count": 16,
     "metadata": {},
     "output_type": "execute_result"
    }
   ],
   "source": [
    "mis_numeros=[5,8,0,4,10,15,12,20,16,18,18,18]\n",
    "mis_numeros.count(18)"
   ]
  }
 ],
 "metadata": {
  "kernelspec": {
   "display_name": "Python 3.8.5 32-bit",
   "language": "python",
   "name": "python3"
  },
  "language_info": {
   "codemirror_mode": {
    "name": "ipython",
    "version": 3
   },
   "file_extension": ".py",
   "mimetype": "text/x-python",
   "name": "python",
   "nbconvert_exporter": "python",
   "pygments_lexer": "ipython3",
   "version": "3.8.5"
  },
  "orig_nbformat": 4,
  "vscode": {
   "interpreter": {
    "hash": "6f92e5f2c603877be6a94f5ba8f2861a22f8f736ca77182d089dbb29a90b1ae2"
   }
  }
 },
 "nbformat": 4,
 "nbformat_minor": 2
}
