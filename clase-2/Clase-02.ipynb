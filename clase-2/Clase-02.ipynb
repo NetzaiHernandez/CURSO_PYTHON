{
 "cells": [
  {
   "cell_type": "markdown",
   "metadata": {},
   "source": [
    "## Encontrar el numero mas grande"
   ]
  },
  {
   "cell_type": "code",
   "execution_count": 3,
   "metadata": {},
   "outputs": [
    {
     "name": "stdout",
     "output_type": "stream",
     "text": [
      "Ingresa dos valors para verificar cual es mayor\n",
      "El numero 8 es mayor que 5\n"
     ]
    }
   ],
   "source": [
    "print(\"Ingresa dos valors para verificar cual es mayor\")\n",
    "valor_1=int(input('Dame un valor 1 entero'))\n",
    "valor_2=int(input('Dame un valor 2 entero'))\n",
    "if(valor_1 > valor_2):\n",
    "    print(f'El numero {valor_1} es mayor que {valor_2}')\n",
    "else:\n",
    "    print(f'El numero {valor_2} es mayor que {valor_1}')"
   ]
  }
 ],
 "metadata": {
  "kernelspec": {
   "display_name": "Python 3.8.5 32-bit",
   "language": "python",
   "name": "python3"
  },
  "language_info": {
   "codemirror_mode": {
    "name": "ipython",
    "version": 3
   },
   "file_extension": ".py",
   "mimetype": "text/x-python",
   "name": "python",
   "nbconvert_exporter": "python",
   "pygments_lexer": "ipython3",
   "version": "3.8.5"
  },
  "orig_nbformat": 4,
  "vscode": {
   "interpreter": {
    "hash": "6f92e5f2c603877be6a94f5ba8f2861a22f8f736ca77182d089dbb29a90b1ae2"
   }
  }
 },
 "nbformat": 4,
 "nbformat_minor": 2
}
